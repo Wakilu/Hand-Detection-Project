{
 "cells": [
  {
   "cell_type": "code",
   "execution_count": 2,
   "id": "05a4a861",
   "metadata": {},
   "outputs": [
    {
     "name": "stdout",
     "output_type": "stream",
     "text": [
      "Collecting mediapipe\n",
      "  Downloading mediapipe-0.8.10.1-cp39-cp39-win_amd64.whl (48.7 MB)\n",
      "Collecting absl-py\n",
      "  Downloading absl_py-1.2.0-py3-none-any.whl (123 kB)\n",
      "Requirement already satisfied: attrs>=19.1.0 in c:\\users\\hp\\anaconda3\\lib\\site-packages (from mediapipe) (21.4.0)\n",
      "Requirement already satisfied: protobuf<4,>=3.11 in c:\\users\\hp\\anaconda3\\lib\\site-packages (from mediapipe) (3.19.1)\n",
      "Collecting opencv-contrib-python\n",
      "  Downloading opencv_contrib_python-4.6.0.66-cp36-abi3-win_amd64.whl (42.5 MB)\n",
      "Requirement already satisfied: numpy in c:\\users\\hp\\anaconda3\\lib\\site-packages (from mediapipe) (1.21.5)\n",
      "Requirement already satisfied: matplotlib in c:\\users\\hp\\anaconda3\\lib\\site-packages (from mediapipe) (3.5.1)\n",
      "Requirement already satisfied: pillow>=6.2.0 in c:\\users\\hp\\anaconda3\\lib\\site-packages (from matplotlib->mediapipe) (9.0.1)\n",
      "Requirement already satisfied: cycler>=0.10 in c:\\users\\hp\\anaconda3\\lib\\site-packages (from matplotlib->mediapipe) (0.11.0)\n",
      "Requirement already satisfied: pyparsing>=2.2.1 in c:\\users\\hp\\anaconda3\\lib\\site-packages (from matplotlib->mediapipe) (3.0.4)\n",
      "Requirement already satisfied: packaging>=20.0 in c:\\users\\hp\\anaconda3\\lib\\site-packages (from matplotlib->mediapipe) (21.3)\n",
      "Requirement already satisfied: python-dateutil>=2.7 in c:\\users\\hp\\anaconda3\\lib\\site-packages (from matplotlib->mediapipe) (2.8.2)\n",
      "Requirement already satisfied: fonttools>=4.22.0 in c:\\users\\hp\\anaconda3\\lib\\site-packages (from matplotlib->mediapipe) (4.25.0)\n",
      "Requirement already satisfied: kiwisolver>=1.0.1 in c:\\users\\hp\\anaconda3\\lib\\site-packages (from matplotlib->mediapipe) (1.3.2)\n",
      "Requirement already satisfied: six>=1.5 in c:\\users\\hp\\anaconda3\\lib\\site-packages (from python-dateutil>=2.7->matplotlib->mediapipe) (1.16.0)\n",
      "Installing collected packages: opencv-contrib-python, absl-py, mediapipe\n",
      "Successfully installed absl-py-1.2.0 mediapipe-0.8.10.1 opencv-contrib-python-4.6.0.66\n"
     ]
    }
   ],
   "source": [
    "!pip install mediapipe"
   ]
  },
  {
   "cell_type": "code",
   "execution_count": 13,
   "id": "8f088a93",
   "metadata": {},
   "outputs": [],
   "source": [
    "# Step 1: Import all necessary libraries\n",
    "import cv2 \n",
    "import mediapipe as mp"
   ]
  },
  {
   "cell_type": "code",
   "execution_count": 14,
   "id": "416fbbf4",
   "metadata": {},
   "outputs": [],
   "source": [
    "# Step 2: I dentify your webcam\n",
    "cap = cv2.VideoCapture(0) # Local webcam -0, External webcam -1"
   ]
  },
  {
   "cell_type": "code",
   "execution_count": 15,
   "id": "0c8f1e0b",
   "metadata": {},
   "outputs": [],
   "source": [
    "# step 4: leveraging the Mediapipe library used for hand detection\n",
    "\n",
    "mpHands = mp.solutions.hands\n",
    "hands = mpHands.Hands()\n",
    "mpDraw = mp.solutions.drawing_utils"
   ]
  },
  {
   "cell_type": "code",
   "execution_count": null,
   "id": "a20bd6fd",
   "metadata": {},
   "outputs": [],
   "source": [
    "# Step 3: Switch on webcam\n",
    "while True:\n",
    "    _, img = cap.read()\n",
    "    \n",
    "    # convert image BGR to RGB\n",
    "    imgRGB = cv2.cvtColor(img, cv2.COLOR_BGR2RGB)\n",
    "\n",
    "    # Apply mediapipe\n",
    "    results = hands.process(imgRGB)\n",
    "\n",
    "    #print(results.multi_hand_landmarks)\n",
    "    \n",
    "    if results.multi_hand_landmarks:\n",
    "        for handLms in results.multi_hand_landmarks:\n",
    "            for id, lm in enumerate(handLms.landmark):\n",
    "                #print(id, lm)\n",
    "                \n",
    "                mpDraw.draw_landmarks(img, handLms, mpHands.HAND_CONNECTIONS)\n",
    "    cv2.putText(img, \"10Alytics Hand Detection Program\", (10, 70), cv2.FONT_HERSHEY_PLAIN, 3, (255,50,55), 2)\n",
    "    cv2.imshow(\"10Alytics Hand detection project\", img)\n",
    "    if cv2.waitKey(1) & 0xFF == ord('k'):\n",
    "        break\n",
    "    \n",
    "# Release the capture once all the processing is done.\n",
    "cap.release()\n",
    "cv2.destroyAllWindows()"
   ]
  },
  {
   "cell_type": "code",
   "execution_count": null,
   "id": "79c18687",
   "metadata": {},
   "outputs": [],
   "source": []
  }
 ],
 "metadata": {
  "kernelspec": {
   "display_name": "Python 3 (ipykernel)",
   "language": "python",
   "name": "python3"
  },
  "language_info": {
   "codemirror_mode": {
    "name": "ipython",
    "version": 3
   },
   "file_extension": ".py",
   "mimetype": "text/x-python",
   "name": "python",
   "nbconvert_exporter": "python",
   "pygments_lexer": "ipython3",
   "version": "3.9.12"
  }
 },
 "nbformat": 4,
 "nbformat_minor": 5
}
